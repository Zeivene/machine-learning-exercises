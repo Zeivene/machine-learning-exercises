{
  "nbformat": 4,
  "nbformat_minor": 0,
  "metadata": {
    "colab": {
      "provenance": [],
      "toc_visible": true,
      "collapsed_sections": []
    },
    "kernelspec": {
      "name": "python3",
      "display_name": "Python 3"
    }
  },
  "cells": [
    {
      "cell_type": "markdown",
      "metadata": {
        "id": "At5qOuOfMJYx"
      },
      "source": [
        "# Anamoly Detection\n",
        "\n",
        "* Detecting the unexpected!\n",
        "* Identifying the outliers\n",
        "\n",
        "### Examples\n",
        "\n",
        "* Network Intrusion\n",
        "* Credit Card Fraud\n",
        "* Fault in production pipeline\n",
        "* An epidemic\n",
        "\n",
        "## Can AI help?\n",
        "\n",
        "* The process should be automated\n",
        "* Should happen in real-time\n",
        "\n",
        "\n",
        "#### Important feature/assumption\n",
        "\n",
        "* Anomalies only occur rarely in the data.\n",
        "* Their input features differ from the normal instances significantly.\n",
        "\n",
        "\n",
        "## Task: Identify fraudulent credit card transactions\n",
        "\n",
        "Credit card companies should be able to recognize fraudulent credit card transactions so that customers are not charged for products that they have not purchased.\n",
        "\n",
        "### Dataset\n",
        "\n",
        "We will be using the dataset collected and analysed during a research collaboration of Worldline and the Machine Learning Group (http://mlg.ulb.ac.be) of ULB (Université Libre de Bruxelles) on big data mining and fraud detection. The datasets contains transactions made by credit cards in September 2013 by european cardholders. The dataset is avilable under [open database license](https://opendatacommons.org/licenses/dbcl/1-0/).\n",
        "\n",
        "The dataset presents transactions that occurred in two days, where we have 492 frauds out of 284,807 transactions. The dataset is highly unbalanced, the positive class (frauds) account for 0.172% of all transactions.\n",
        "\n",
        "It contains only numerical input variables which are the result of a PCA transformation. Unfortunately, due to confidentiality issues, we cannot provide the original features and more background information about the data. Features V1, V2, … V28 are the principal components obtained with PCA, the only features which have not been transformed with PCA are 'Time' and 'Amount'. Feature 'Time' contains the seconds elapsed between each transaction and the first transaction in the dataset. The feature 'Amount' is the transaction Amount, this feature can be used for example-dependant cost-senstive learning. Feature 'Class' is the response variable and it takes value 1 in case of fraud and 0 otherwise.\n",
        "\n",
        "\n",
        "Given the class imbalance ratio, we recommend measuring the accuracy using the Area Under the Precision-Recall Curve (AUPRC). Confusion matrix accuracy is not meaningful for unbalanced classification.\n",
        "\n",
        "\n"
      ]
    },
    {
      "cell_type": "markdown",
      "metadata": {
        "id": "lnR2Gv0JXece"
      },
      "source": [
        "## Program structure\n",
        "\n",
        "While Jupyter Notebooks are a great way to learn, they are not compatible with production. Thus for making a production ready code, it is important that we follow a structure. \n",
        "To solve this problem we will be following a simple program structure using the concepts of modularity and abstraction.\n",
        "The code is divided in three sections:\n",
        "* **Utility functions**: All the helper functions like downloading data, preprocessing the data, additional plotting functionalities come here. We will call this `util.py`. \n",
        "* **Model definition**: This contains the model that you want to use. We will place this in file `model.py`.\n",
        "* **Main Code**: Finally the code using the utility functions and model will be placed here, where we will do training and later prediction. This code is called `main.py`.\n",
        "\n",
        "![](https://drive.google.com/uc?export=view&id=1aqymDLGBChMZSHcFTVUXjMpb2hT6OklO)\n",
        "\n",
        "We will follow this structure in the example baseline."
      ]
    },
    {
      "cell_type": "code",
      "metadata": {
        "id": "0CIS1qHENFnX",
        "colab": {
          "base_uri": "https://localhost:8080/"
        },
        "outputId": "5b5b61b3-6bdd-4796-fe4a-c8371a9e1c55"
      },
      "source": [
        "%%writefile util.py\n",
        "\n",
        "import pandas as pd\n",
        "import numpy as np\n",
        "from sklearn.model_selection import train_test_split\n",
        "from imblearn.over_sampling import SMOTE\n",
        "from sklearn import metrics\n",
        "import matplotlib.pyplot as plt\n",
        "\n",
        "def download_data(url):\n",
        "  '''\n",
        "  The function downloads data from the url and preprocesses it. \n",
        "  The function uses SMOTE to handle class imbalance\n",
        "  Arguments\n",
        "  url: The url link from where to download data\n",
        "  Returns:\n",
        "  X_sm, y_sm:  Balanced training dataset\n",
        "  X_test, y_test: Test dataset \n",
        "  '''\n",
        "  df = pd.read_csv(url)\n",
        "  #creating target series\n",
        "  target = df['Class']\n",
        "\n",
        "  #dropping the target variable from the data set\n",
        "  df.drop('Class',axis=1,inplace=True)\n",
        "\n",
        "  #converting them to numpy arrays\n",
        "  X = np.array(df)\n",
        "  y = np.array(target)\n",
        "\n",
        "  X_train,X_test,y_train,y_test = train_test_split(X,y,test_size=0.25,random_state=1)\n",
        "\n",
        "  ## Handle class imbalance\n",
        "  sm = SMOTE(random_state=2)\n",
        "  X_sm,y_sm = sm.fit_resample(X_train,y_train)\n",
        "\n",
        "  return X_sm, y_sm, X_test, y_test\n",
        "\n",
        "def calculate_metrics(y_test, y_logreg,y_logreg_prob):\n",
        "  '''\n",
        "  The function uses Scikit to calculate metrics for the model. The metrics given are:\n",
        "  * Confusion Matrix\n",
        "  * Accuracy\n",
        "  * Precision\n",
        "  * Recall\n",
        "  * AUC\n",
        "  * AUPRC\n",
        "  * Top-k Accuracy\n",
        "  '''\n",
        "  print(\"Confusion Matrix:\\n\",metrics.confusion_matrix(y_test,y_logreg))\n",
        "  print(\"Accuracy:\\n\",metrics.accuracy_score(y_test,y_logreg))\n",
        "  print(\"Precision:\\n\",metrics.precision_score(y_test,y_logreg))\n",
        "  print(\"Recall:\\n\",metrics.recall_score(y_test,y_logreg))\n",
        "  print(\"AUC:\\n\",metrics.roc_auc_score(y_test,y_logreg_prob))\n",
        "  print(\"AUPRC:\\n\",metrics.average_precision_score(y_test,y_logreg_prob))\n",
        "  print(\"Top-k Accuracy:\\n\",metrics.top_k_accuracy_score(y_test,y_logreg_prob))\n",
        "\n",
        "\n",
        "\n",
        "def save_auc(y_test,y_logreg_prob):\n",
        "  '''\n",
        "  The function saves the AUC curve in a file\n",
        "  '''\n",
        "  auc=metrics.roc_auc_score(y_test,y_logreg_prob)\n",
        "  fpr,tpr,thresholds=metrics.roc_curve(y_test,y_logreg_prob)\n",
        "  plt.plot(fpr,tpr,'b', label='AUC = %0.2f'% auc)\n",
        "  plt.plot([0,1],[0,1],'r-.')\n",
        "  plt.xlim([-0.2,1.2])\n",
        "  plt.ylim([-0.2,1.2])\n",
        "  plt.title('Receiver Operating Characteristic\\nLogistic Regression')\n",
        "  plt.legend(loc='lower right')\n",
        "  plt.ylabel('True Positive Rate')\n",
        "  plt.xlabel('False Positive Rate')\n",
        "  plt.savefig(\"Auc_curve.png\")\n",
        "\n",
        "  \n",
        "\n"
      ],
      "execution_count": null,
      "outputs": [
        {
          "output_type": "stream",
          "name": "stdout",
          "text": [
            "Overwriting util.py\n"
          ]
        }
      ]
    },
    {
      "cell_type": "code",
      "metadata": {
        "id": "62nqHEcRNI-p",
        "colab": {
          "base_uri": "https://localhost:8080/"
        },
        "outputId": "3624b938-6dff-4b2e-c1c8-f5d1ddc02ae1"
      },
      "source": [
        "%%writefile model.py\n",
        "\n",
        "import numpy as np\n",
        "from sklearn.linear_model import LogisticRegression\n",
        "def train(X_sm,y_sm):\n",
        "  '''\n",
        "  Function takes in the training data, define a Logistic Regression model\n",
        "  and train the model.\n",
        "  Arguments:\n",
        "  X_sm,y_sm: The taining data with label\n",
        "  Returns\n",
        "  model: The trained model\n",
        "  \n",
        "  '''\n",
        "  #Logistic Regression\n",
        "  model=LogisticRegression()\n",
        "  model.fit(X_sm,y_sm)\n",
        "  return model \n",
        "\n",
        "def predict(X_test,model):\n",
        "  '''\n",
        "  Function predicts the output for a given input array\n",
        "  Arguments\n",
        "  X_test: The input dataset for which you want to predict\n",
        "  model: The trained model\n",
        "  Returns\n",
        "  y_logreg: The output of the trained logistic regressor\n",
        "  y_logreg_prob: The probability/confidence value of the prediction\n",
        "  '''\n",
        "  y_logreg = model.predict(X_test)\n",
        "  y_logreg_prob = model.predict_proba(X_test)[:,1]\n",
        "  return y_logreg, y_logreg_prob\n"
      ],
      "execution_count": null,
      "outputs": [
        {
          "output_type": "stream",
          "name": "stdout",
          "text": [
            "Overwriting model.py\n"
          ]
        }
      ]
    },
    {
      "cell_type": "code",
      "metadata": {
        "id": "kxaFhEcKPata",
        "colab": {
          "base_uri": "https://localhost:8080/"
        },
        "outputId": "f450c977-4876-4afc-8b43-464dfa36b007"
      },
      "source": [
        "%%writefile main.py\n",
        "\n",
        "import numpy as np\n",
        "from util import download_data, calculate_metrics, save_auc\n",
        "from model import train, predict\n",
        "\n",
        "\n",
        "url = \"https://raw.githubusercontent.com/nsethi31/Kaggle-Data-Credit-Card-Fraud-Detection/master/creditcard.csv\"\n",
        "\n",
        "## read data:\n",
        "X_sm, y_sm, X_test, y_test = download_data(url)\n",
        "\n",
        "#define and train the model:\n",
        "model = train(X_sm, y_sm)\n",
        "\n",
        "# Make predictions\n",
        "y_logreg, y_logreg_prob = predict(X_test,model)\n",
        "\n",
        "#Calculate metrics\n",
        "calculate_metrics(y_test, y_logreg,y_logreg_prob)\n",
        "\n",
        "#Save AUC curve\n",
        "save_auc(y_test,y_logreg_prob)\n"
      ],
      "execution_count": null,
      "outputs": [
        {
          "output_type": "stream",
          "name": "stdout",
          "text": [
            "Overwriting main.py\n"
          ]
        }
      ]
    },
    {
      "cell_type": "code",
      "metadata": {
        "id": "nlJM_UwiodQU",
        "colab": {
          "base_uri": "https://localhost:8080/"
        },
        "outputId": "699a4884-0ae4-4b08-862c-752d4f133185"
      },
      "source": [
        "!python -W ignore main.py"
      ],
      "execution_count": null,
      "outputs": [
        {
          "output_type": "stream",
          "name": "stdout",
          "text": [
            "Confusion Matrix:\n",
            " [[70180   911]\n",
            " [   17    94]]\n",
            "Accuracy:\n",
            " 0.9869666582399371\n",
            "Precision:\n",
            " 0.09353233830845771\n",
            "Recall:\n",
            " 0.8468468468468469\n",
            "AUC:\n",
            " 0.9624665810258924\n",
            "AUPRC:\n",
            " 0.6601412181295772\n",
            "Top-k Accuracy:\n",
            " 1.0\n"
          ]
        }
      ]
    },
    {
      "cell_type": "markdown",
      "metadata": {
        "id": "B1A93PhTt1An"
      },
      "source": [
        "Let us see the AUC curve obtained\n"
      ]
    },
    {
      "cell_type": "code",
      "metadata": {
        "id": "DIZ-yhlsuPFw",
        "colab": {
          "base_uri": "https://localhost:8080/",
          "height": 497
        },
        "outputId": "4cd02f27-08f9-4f5e-de3b-598488f3a37e"
      },
      "source": [
        "from IPython.display import Image\n",
        "Image(filename='Auc_curve.png')"
      ],
      "execution_count": null,
      "outputs": [
        {
          "output_type": "execute_result",
          "data": {
            "image/png": "[encoded data removed]",
            "text/plain": [
              "<IPython.core.display.Image object>"
            ]
          },
          "metadata": {},
          "execution_count": 80
        }
      ]
    },
    {
      "cell_type": "markdown",
      "metadata": {
        "id": "sp4X74DKOM-K"
      },
      "source": [
        "## Exercise 1\n",
        "\n",
        "Discuss evaluation metrics. Which ones are more important for anomaly detection problems\n"
      ]
    },
    {
      "cell_type": "markdown",
      "metadata": {
        "id": "qLRecPq8OtLx"
      },
      "source": [
        "**Answer:**\n",
        "\n",
        "Based from the results generated from 5 different metrics: \n",
        "\n",
        "    Confusion Matrix:   [[70180   911]\n",
        "                        [   17    94]]\n",
        "\n",
        "    Accuracy:           0.9869666582399371\n",
        "\n",
        "    Precision:          0.09353233830845771\n",
        "\n",
        "    Recall:             0.8468468468468469\n",
        "\n",
        "    AUC:                0.9624665810258924\n",
        "\n",
        "**Performance:**\n",
        "\n",
        "    Accuracy:           98.70 %      # Same as Confusion Matrix\n",
        "\n",
        "    Precision:           9.35 %\n",
        "\n",
        "    Recall:             84.68 %\n",
        "\n",
        "    AUC:                96.25 %\n",
        "\n",
        "**Overall, the Accuracy/Confusion Matrix metric yields the best performance. However, as previously mentioned, it is not meaningful for imbalanced classification.**"
      ]
    },
    {
      "cell_type": "markdown",
      "metadata": {
        "id": "xFcqvGkMOzSL"
      },
      "source": [
        "## Exercise 2\n",
        "\n",
        "Try to improve on the Logistic Regression result. Follow the suggested code structure\n",
        "\n",
        "**Answer:**\n",
        "\n",
        "By exploring and implementing the AUPRC & Top-k Accuracy metrics, Top-k Accuracy metric obtained a 100% accuracy. However, I am uncertain if the results are correct.\n",
        "\n",
        "    Confusion Matrix:   [[70180   911]\n",
        "                        [   17    94]]\n",
        "\n",
        "    Accuracy:           0.9869666582399371\n",
        "\n",
        "    Precision:          0.09353233830845771\n",
        "\n",
        "    Recall:             0.8468468468468469\n",
        "\n",
        "    AUC:                0.9624665810258924\n",
        "\n",
        "    AUPRC:              0.6601412181295772\n",
        "\n",
        "    Top-k Accuracy:     1.0\n",
        "\n",
        "**Performance:**\n",
        "\n",
        "    Accuracy:           98.70 %      # Same as Confusion Matrix\n",
        "\n",
        "    Precision:           9.35 %\n",
        "\n",
        "    Recall:             84.68 %\n",
        "\n",
        "    AUC:                96.25 %\n",
        "\n",
        "    AUPRC:              66.01 %\n",
        "\n",
        "    Top-k Accuracy:    100.00 %"
      ]
    },
    {
      "cell_type": "markdown",
      "metadata": {
        "id": "TLwpnqall3KJ"
      },
      "source": [
        "### References\n",
        "\n",
        "* Andrea Dal Pozzolo, Olivier Caelen, Reid A. Johnson and Gianluca Bontempi. Calibrating Probability with Undersampling for Unbalanced Classification. In Symposium on Computational Intelligence and Data Mining (CIDM), IEEE, 2015\n",
        "\n",
        "* Dal Pozzolo, Andrea; Caelen, Olivier; Le Borgne, Yann-Ael; Waterschoot, Serge; Bontempi, Gianluca. Learned lessons in credit card fraud detection from a practitioner perspective, Expert systems with applications,41,10,4915-4928,2014, Pergamon\n",
        "\n",
        "* Dal Pozzolo, Andrea; Boracchi, Giacomo; Caelen, Olivier; Alippi, Cesare; Bontempi, Gianluca. Credit card fraud detection: a realistic modeling and a novel learning strategy, IEEE transactions on neural networks and learning systems,29,8,3784-3797,2018,IEEE\n",
        "\n",
        "* Dal Pozzolo, Andrea Adaptive Machine learning for credit card fraud detection ULB MLG PhD thesis (supervised by G. Bontempi)\n",
        "\n",
        "* Carcillo, Fabrizio; Dal Pozzolo, Andrea; Le Borgne, Yann-Aël; Caelen, Olivier; Mazzer, Yannis; Bontempi, Gianluca. Scarff: a scalable framework for streaming credit card fraud detection with Spark, Information fusion,41, 182-194,2018,Elsevier\n",
        "\n",
        "* Carcillo, Fabrizio; Le Borgne, Yann-Aël; Caelen, Olivier; Bontempi, Gianluca. Streaming active learning strategies for real-life credit card fraud detection: assessment and visualization, International Journal of Data Science and Analytics, 5,4,285-300,2018,Springer International Publishing\n",
        "\n",
        "* Bertrand Lebichot, Yann-Aël Le Borgne, Liyun He, Frederic Oblé, Gianluca Bontempi Deep-Learning Domain Adaptation Techniques for Credit Cards Fraud Detection, INNSBDDL 2019: Recent Advances in Big Data and Deep Learning, pp 78-88, 2019\n",
        "\n",
        "* Fabrizio Carcillo, Yann-Aël Le Borgne, Olivier Caelen, Frederic Oblé, Gianluca Bontempi Combining Unsupervised and Supervised Learning in Credit Card Fraud Detection Information Sciences, 2019"
      ]
    }
  ]
}